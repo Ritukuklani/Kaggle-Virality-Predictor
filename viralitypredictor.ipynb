{
  "nbformat": 4,
  "nbformat_minor": 0,
  "metadata": {
    "colab": {
      "name": "viralitypredictor.ipynb",
      "provenance": [],
      "include_colab_link": true
    },
    "kernelspec": {
      "name": "python3",
      "display_name": "Python 3"
    }
  },
  "cells": [
    {
      "cell_type": "markdown",
      "metadata": {
        "id": "view-in-github",
        "colab_type": "text"
      },
      "source": [
        "<a href=\"https://colab.research.google.com/github/Ritukuklani/Kaggle-Virality-Predictor/blob/main/viralitypredictor.ipynb\" target=\"_parent\"><img src=\"https://colab.research.google.com/assets/colab-badge.svg\" alt=\"Open In Colab\"/></a>"
      ]
    },
    {
      "cell_type": "markdown",
      "metadata": {
        "id": "RO53aL2Dfn97"
      },
      "source": [
        "# I considered the number of likes, views, comments, bookmarks and number of follows to generate a virality score for each contentID.\n",
        "\n",
        "# I observed that the following was a regression problem ans hence used linear regression and gradient descent to the problem."
      ]
    },
    {
      "cell_type": "markdown",
      "metadata": {
        "id": "bAffhn61gcah"
      },
      "source": [
        "# I used the R2 score and the Mean Square Error evaluation metrics.\n",
        "\n",
        "# If I had more time I would like to check out the accuracy provided my Stochastic Gradient Descent as that would be a faster approach.\n",
        "\n",
        "# Moreover, I would like to use some unsupervised learning techniques before applying gradient descent or linear regression and check the accuracy obtained.\n"
      ]
    },
    {
      "cell_type": "code",
      "metadata": {
        "id": "9BzNeJYCiaio"
      },
      "source": [
        "import numpy as np\n",
        "import pandas as pd"
      ],
      "execution_count": null,
      "outputs": []
    },
    {
      "cell_type": "code",
      "metadata": {
        "id": "1dsQPZITjBeN",
        "colab": {
          "base_uri": "https://localhost:8080/",
          "height": 34
        },
        "outputId": "66b2548b-919c-4f0e-ae16-37c442b11f5d"
      },
      "source": [
        "!pwd"
      ],
      "execution_count": null,
      "outputs": [
        {
          "output_type": "stream",
          "text": [
            "/content\n"
          ],
          "name": "stdout"
        }
      ]
    },
    {
      "cell_type": "markdown",
      "metadata": {
        "id": "tCMPNdPwULqH"
      },
      "source": [
        "#Loading the dataframes"
      ]
    },
    {
      "cell_type": "code",
      "metadata": {
        "id": "meOIHi1yi6uI",
        "colab": {
          "base_uri": "https://localhost:8080/",
          "height": 635
        },
        "outputId": "c9aaad26-5dca-4081-8de3-5513023d8157"
      },
      "source": [
        "df_shared_articles = pd.read_csv('sample_data/shared_articles.csv')\n",
        "df_shared_articles.head()"
      ],
      "execution_count": null,
      "outputs": [
        {
          "output_type": "execute_result",
          "data": {
            "text/html": [
              "<div>\n",
              "<style scoped>\n",
              "    .dataframe tbody tr th:only-of-type {\n",
              "        vertical-align: middle;\n",
              "    }\n",
              "\n",
              "    .dataframe tbody tr th {\n",
              "        vertical-align: top;\n",
              "    }\n",
              "\n",
              "    .dataframe thead th {\n",
              "        text-align: right;\n",
              "    }\n",
              "</style>\n",
              "<table border=\"1\" class=\"dataframe\">\n",
              "  <thead>\n",
              "    <tr style=\"text-align: right;\">\n",
              "      <th></th>\n",
              "      <th>timestamp</th>\n",
              "      <th>eventType</th>\n",
              "      <th>contentId</th>\n",
              "      <th>authorPersonId</th>\n",
              "      <th>authorSessionId</th>\n",
              "      <th>authorUserAgent</th>\n",
              "      <th>authorRegion</th>\n",
              "      <th>authorCountry</th>\n",
              "      <th>contentType</th>\n",
              "      <th>url</th>\n",
              "      <th>title</th>\n",
              "      <th>text</th>\n",
              "      <th>lang</th>\n",
              "    </tr>\n",
              "  </thead>\n",
              "  <tbody>\n",
              "    <tr>\n",
              "      <th>0</th>\n",
              "      <td>1459192779</td>\n",
              "      <td>CONTENT REMOVED</td>\n",
              "      <td>-6451309518266745024</td>\n",
              "      <td>4340306774493623681</td>\n",
              "      <td>8940341205206233829</td>\n",
              "      <td>NaN</td>\n",
              "      <td>NaN</td>\n",
              "      <td>NaN</td>\n",
              "      <td>HTML</td>\n",
              "      <td>http://www.nytimes.com/2016/03/28/business/dea...</td>\n",
              "      <td>Ethereum, a Virtual Currency, Enables Transact...</td>\n",
              "      <td>All of this work is still very early. The firs...</td>\n",
              "      <td>en</td>\n",
              "    </tr>\n",
              "    <tr>\n",
              "      <th>1</th>\n",
              "      <td>1459193988</td>\n",
              "      <td>CONTENT SHARED</td>\n",
              "      <td>-4110354420726924665</td>\n",
              "      <td>4340306774493623681</td>\n",
              "      <td>8940341205206233829</td>\n",
              "      <td>NaN</td>\n",
              "      <td>NaN</td>\n",
              "      <td>NaN</td>\n",
              "      <td>HTML</td>\n",
              "      <td>http://www.nytimes.com/2016/03/28/business/dea...</td>\n",
              "      <td>Ethereum, a Virtual Currency, Enables Transact...</td>\n",
              "      <td>All of this work is still very early. The firs...</td>\n",
              "      <td>en</td>\n",
              "    </tr>\n",
              "    <tr>\n",
              "      <th>2</th>\n",
              "      <td>1459194146</td>\n",
              "      <td>CONTENT SHARED</td>\n",
              "      <td>-7292285110016212249</td>\n",
              "      <td>4340306774493623681</td>\n",
              "      <td>8940341205206233829</td>\n",
              "      <td>NaN</td>\n",
              "      <td>NaN</td>\n",
              "      <td>NaN</td>\n",
              "      <td>HTML</td>\n",
              "      <td>http://cointelegraph.com/news/bitcoin-future-w...</td>\n",
              "      <td>Bitcoin Future: When GBPcoin of Branson Wins O...</td>\n",
              "      <td>The alarm clock wakes me at 8:00 with stream o...</td>\n",
              "      <td>en</td>\n",
              "    </tr>\n",
              "    <tr>\n",
              "      <th>3</th>\n",
              "      <td>1459194474</td>\n",
              "      <td>CONTENT SHARED</td>\n",
              "      <td>-6151852268067518688</td>\n",
              "      <td>3891637997717104548</td>\n",
              "      <td>-1457532940883382585</td>\n",
              "      <td>NaN</td>\n",
              "      <td>NaN</td>\n",
              "      <td>NaN</td>\n",
              "      <td>HTML</td>\n",
              "      <td>https://cloudplatform.googleblog.com/2016/03/G...</td>\n",
              "      <td>Google Data Center 360° Tour</td>\n",
              "      <td>We're excited to share the Google Data Center ...</td>\n",
              "      <td>en</td>\n",
              "    </tr>\n",
              "    <tr>\n",
              "      <th>4</th>\n",
              "      <td>1459194497</td>\n",
              "      <td>CONTENT SHARED</td>\n",
              "      <td>2448026894306402386</td>\n",
              "      <td>4340306774493623681</td>\n",
              "      <td>8940341205206233829</td>\n",
              "      <td>NaN</td>\n",
              "      <td>NaN</td>\n",
              "      <td>NaN</td>\n",
              "      <td>HTML</td>\n",
              "      <td>https://bitcoinmagazine.com/articles/ibm-wants...</td>\n",
              "      <td>IBM Wants to \"Evolve the Internet\" With Blockc...</td>\n",
              "      <td>The Aite Group projects the blockchain market ...</td>\n",
              "      <td>en</td>\n",
              "    </tr>\n",
              "  </tbody>\n",
              "</table>\n",
              "</div>"
            ],
            "text/plain": [
              "    timestamp  ... lang\n",
              "0  1459192779  ...   en\n",
              "1  1459193988  ...   en\n",
              "2  1459194146  ...   en\n",
              "3  1459194474  ...   en\n",
              "4  1459194497  ...   en\n",
              "\n",
              "[5 rows x 13 columns]"
            ]
          },
          "metadata": {
            "tags": []
          },
          "execution_count": 40
        }
      ]
    },
    {
      "cell_type": "code",
      "metadata": {
        "id": "0h2ydTQKjHtq",
        "colab": {
          "base_uri": "https://localhost:8080/",
          "height": 402
        },
        "outputId": "1e9754b6-40a3-4250-d508-c11233c6bb7c"
      },
      "source": [
        "df_user_interactions = pd.read_csv('sample_data/users_interactions.csv')\n",
        "df_user_interactions"
      ],
      "execution_count": null,
      "outputs": [
        {
          "output_type": "execute_result",
          "data": {
            "text/html": [
              "<div>\n",
              "<style scoped>\n",
              "    .dataframe tbody tr th:only-of-type {\n",
              "        vertical-align: middle;\n",
              "    }\n",
              "\n",
              "    .dataframe tbody tr th {\n",
              "        vertical-align: top;\n",
              "    }\n",
              "\n",
              "    .dataframe thead th {\n",
              "        text-align: right;\n",
              "    }\n",
              "</style>\n",
              "<table border=\"1\" class=\"dataframe\">\n",
              "  <thead>\n",
              "    <tr style=\"text-align: right;\">\n",
              "      <th></th>\n",
              "      <th>timestamp</th>\n",
              "      <th>eventType</th>\n",
              "      <th>contentId</th>\n",
              "      <th>personId</th>\n",
              "      <th>sessionId</th>\n",
              "      <th>userAgent</th>\n",
              "      <th>userRegion</th>\n",
              "      <th>userCountry</th>\n",
              "    </tr>\n",
              "  </thead>\n",
              "  <tbody>\n",
              "    <tr>\n",
              "      <th>0</th>\n",
              "      <td>1465413032</td>\n",
              "      <td>VIEW</td>\n",
              "      <td>-3499919498720038879</td>\n",
              "      <td>-8845298781299428018</td>\n",
              "      <td>1264196770339959068</td>\n",
              "      <td>NaN</td>\n",
              "      <td>NaN</td>\n",
              "      <td>NaN</td>\n",
              "    </tr>\n",
              "    <tr>\n",
              "      <th>1</th>\n",
              "      <td>1465412560</td>\n",
              "      <td>VIEW</td>\n",
              "      <td>8890720798209849691</td>\n",
              "      <td>-1032019229384696495</td>\n",
              "      <td>3621737643587579081</td>\n",
              "      <td>Mozilla/5.0 (Macintosh; Intel Mac OS X 10_11_2...</td>\n",
              "      <td>NY</td>\n",
              "      <td>US</td>\n",
              "    </tr>\n",
              "    <tr>\n",
              "      <th>2</th>\n",
              "      <td>1465416190</td>\n",
              "      <td>VIEW</td>\n",
              "      <td>310515487419366995</td>\n",
              "      <td>-1130272294246983140</td>\n",
              "      <td>2631864456530402479</td>\n",
              "      <td>NaN</td>\n",
              "      <td>NaN</td>\n",
              "      <td>NaN</td>\n",
              "    </tr>\n",
              "    <tr>\n",
              "      <th>3</th>\n",
              "      <td>1465413895</td>\n",
              "      <td>FOLLOW</td>\n",
              "      <td>310515487419366995</td>\n",
              "      <td>344280948527967603</td>\n",
              "      <td>-3167637573980064150</td>\n",
              "      <td>NaN</td>\n",
              "      <td>NaN</td>\n",
              "      <td>NaN</td>\n",
              "    </tr>\n",
              "    <tr>\n",
              "      <th>4</th>\n",
              "      <td>1465412290</td>\n",
              "      <td>VIEW</td>\n",
              "      <td>-7820640624231356730</td>\n",
              "      <td>-445337111692715325</td>\n",
              "      <td>5611481178424124714</td>\n",
              "      <td>NaN</td>\n",
              "      <td>NaN</td>\n",
              "      <td>NaN</td>\n",
              "    </tr>\n",
              "    <tr>\n",
              "      <th>...</th>\n",
              "      <td>...</td>\n",
              "      <td>...</td>\n",
              "      <td>...</td>\n",
              "      <td>...</td>\n",
              "      <td>...</td>\n",
              "      <td>...</td>\n",
              "      <td>...</td>\n",
              "      <td>...</td>\n",
              "    </tr>\n",
              "    <tr>\n",
              "      <th>72307</th>\n",
              "      <td>1485190425</td>\n",
              "      <td>LIKE</td>\n",
              "      <td>-6590819806697898649</td>\n",
              "      <td>-9016528795238256703</td>\n",
              "      <td>8614469745607949425</td>\n",
              "      <td>Mozilla/5.0 (Macintosh; Intel Mac OS X 10_11_4...</td>\n",
              "      <td>MG</td>\n",
              "      <td>BR</td>\n",
              "    </tr>\n",
              "    <tr>\n",
              "      <th>72308</th>\n",
              "      <td>1485190425</td>\n",
              "      <td>VIEW</td>\n",
              "      <td>-5813211845057621660</td>\n",
              "      <td>102305705598210278</td>\n",
              "      <td>5527770709392883642</td>\n",
              "      <td>Mozilla/5.0 (X11; Linux x86_64) AppleWebKit/53...</td>\n",
              "      <td>SP</td>\n",
              "      <td>BR</td>\n",
              "    </tr>\n",
              "    <tr>\n",
              "      <th>72309</th>\n",
              "      <td>1485190072</td>\n",
              "      <td>VIEW</td>\n",
              "      <td>-1999468346928419252</td>\n",
              "      <td>-9196668942822132778</td>\n",
              "      <td>-8300596454915870873</td>\n",
              "      <td>Mozilla/5.0 (Windows NT 10.0; Win64; x64) Appl...</td>\n",
              "      <td>SP</td>\n",
              "      <td>BR</td>\n",
              "    </tr>\n",
              "    <tr>\n",
              "      <th>72310</th>\n",
              "      <td>1485190434</td>\n",
              "      <td>VIEW</td>\n",
              "      <td>-6590819806697898649</td>\n",
              "      <td>-9016528795238256703</td>\n",
              "      <td>8614469745607949425</td>\n",
              "      <td>Mozilla/5.0 (Macintosh; Intel Mac OS X 10_11_4...</td>\n",
              "      <td>MG</td>\n",
              "      <td>BR</td>\n",
              "    </tr>\n",
              "    <tr>\n",
              "      <th>72311</th>\n",
              "      <td>1485187988</td>\n",
              "      <td>VIEW</td>\n",
              "      <td>5669290109546991426</td>\n",
              "      <td>5713241217519616260</td>\n",
              "      <td>6704552481483665372</td>\n",
              "      <td>Mozilla/5.0 (Windows NT 10.0; WOW64) AppleWebK...</td>\n",
              "      <td>MG</td>\n",
              "      <td>BR</td>\n",
              "    </tr>\n",
              "  </tbody>\n",
              "</table>\n",
              "<p>72312 rows × 8 columns</p>\n",
              "</div>"
            ],
            "text/plain": [
              "        timestamp eventType  ...  userRegion  userCountry\n",
              "0      1465413032      VIEW  ...         NaN          NaN\n",
              "1      1465412560      VIEW  ...          NY           US\n",
              "2      1465416190      VIEW  ...         NaN          NaN\n",
              "3      1465413895    FOLLOW  ...         NaN          NaN\n",
              "4      1465412290      VIEW  ...         NaN          NaN\n",
              "...           ...       ...  ...         ...          ...\n",
              "72307  1485190425      LIKE  ...          MG           BR\n",
              "72308  1485190425      VIEW  ...          SP           BR\n",
              "72309  1485190072      VIEW  ...          SP           BR\n",
              "72310  1485190434      VIEW  ...          MG           BR\n",
              "72311  1485187988      VIEW  ...          MG           BR\n",
              "\n",
              "[72312 rows x 8 columns]"
            ]
          },
          "metadata": {
            "tags": []
          },
          "execution_count": 41
        }
      ]
    },
    {
      "cell_type": "markdown",
      "metadata": {
        "id": "0-4MchZoUWMn"
      },
      "source": [
        "#Getting a count of the events"
      ]
    },
    {
      "cell_type": "code",
      "metadata": {
        "id": "Av-zgfIGjXF2",
        "colab": {
          "base_uri": "https://localhost:8080/",
          "height": 787
        },
        "outputId": "c978930a-6385-45c5-d946-11978aeaf8ba"
      },
      "source": [
        "df_user_interactions['COUNTER'] =1  \n",
        "data = df_user_interactions.groupby(['contentId','eventType'])['COUNTER'].sum().reset_index() \n",
        "data.head(25)"
      ],
      "execution_count": null,
      "outputs": [
        {
          "output_type": "execute_result",
          "data": {
            "text/html": [
              "<div>\n",
              "<style scoped>\n",
              "    .dataframe tbody tr th:only-of-type {\n",
              "        vertical-align: middle;\n",
              "    }\n",
              "\n",
              "    .dataframe tbody tr th {\n",
              "        vertical-align: top;\n",
              "    }\n",
              "\n",
              "    .dataframe thead th {\n",
              "        text-align: right;\n",
              "    }\n",
              "</style>\n",
              "<table border=\"1\" class=\"dataframe\">\n",
              "  <thead>\n",
              "    <tr style=\"text-align: right;\">\n",
              "      <th></th>\n",
              "      <th>contentId</th>\n",
              "      <th>eventType</th>\n",
              "      <th>COUNTER</th>\n",
              "    </tr>\n",
              "  </thead>\n",
              "  <tbody>\n",
              "    <tr>\n",
              "      <th>0</th>\n",
              "      <td>-9222795471790223670</td>\n",
              "      <td>BOOKMARK</td>\n",
              "      <td>1</td>\n",
              "    </tr>\n",
              "    <tr>\n",
              "      <th>1</th>\n",
              "      <td>-9222795471790223670</td>\n",
              "      <td>COMMENT CREATED</td>\n",
              "      <td>2</td>\n",
              "    </tr>\n",
              "    <tr>\n",
              "      <th>2</th>\n",
              "      <td>-9222795471790223670</td>\n",
              "      <td>FOLLOW</td>\n",
              "      <td>3</td>\n",
              "    </tr>\n",
              "    <tr>\n",
              "      <th>3</th>\n",
              "      <td>-9222795471790223670</td>\n",
              "      <td>LIKE</td>\n",
              "      <td>4</td>\n",
              "    </tr>\n",
              "    <tr>\n",
              "      <th>4</th>\n",
              "      <td>-9222795471790223670</td>\n",
              "      <td>VIEW</td>\n",
              "      <td>16</td>\n",
              "    </tr>\n",
              "    <tr>\n",
              "      <th>5</th>\n",
              "      <td>-9216926795620865886</td>\n",
              "      <td>BOOKMARK</td>\n",
              "      <td>1</td>\n",
              "    </tr>\n",
              "    <tr>\n",
              "      <th>6</th>\n",
              "      <td>-9216926795620865886</td>\n",
              "      <td>COMMENT CREATED</td>\n",
              "      <td>1</td>\n",
              "    </tr>\n",
              "    <tr>\n",
              "      <th>7</th>\n",
              "      <td>-9216926795620865886</td>\n",
              "      <td>FOLLOW</td>\n",
              "      <td>1</td>\n",
              "    </tr>\n",
              "    <tr>\n",
              "      <th>8</th>\n",
              "      <td>-9216926795620865886</td>\n",
              "      <td>LIKE</td>\n",
              "      <td>3</td>\n",
              "    </tr>\n",
              "    <tr>\n",
              "      <th>9</th>\n",
              "      <td>-9216926795620865886</td>\n",
              "      <td>VIEW</td>\n",
              "      <td>15</td>\n",
              "    </tr>\n",
              "    <tr>\n",
              "      <th>10</th>\n",
              "      <td>-9194572880052200111</td>\n",
              "      <td>BOOKMARK</td>\n",
              "      <td>2</td>\n",
              "    </tr>\n",
              "    <tr>\n",
              "      <th>11</th>\n",
              "      <td>-9194572880052200111</td>\n",
              "      <td>COMMENT CREATED</td>\n",
              "      <td>1</td>\n",
              "    </tr>\n",
              "    <tr>\n",
              "      <th>12</th>\n",
              "      <td>-9194572880052200111</td>\n",
              "      <td>FOLLOW</td>\n",
              "      <td>1</td>\n",
              "    </tr>\n",
              "    <tr>\n",
              "      <th>13</th>\n",
              "      <td>-9194572880052200111</td>\n",
              "      <td>LIKE</td>\n",
              "      <td>4</td>\n",
              "    </tr>\n",
              "    <tr>\n",
              "      <th>14</th>\n",
              "      <td>-9194572880052200111</td>\n",
              "      <td>VIEW</td>\n",
              "      <td>21</td>\n",
              "    </tr>\n",
              "    <tr>\n",
              "      <th>15</th>\n",
              "      <td>-9192549002213406534</td>\n",
              "      <td>COMMENT CREATED</td>\n",
              "      <td>1</td>\n",
              "    </tr>\n",
              "    <tr>\n",
              "      <th>16</th>\n",
              "      <td>-9192549002213406534</td>\n",
              "      <td>LIKE</td>\n",
              "      <td>5</td>\n",
              "    </tr>\n",
              "    <tr>\n",
              "      <th>17</th>\n",
              "      <td>-9192549002213406534</td>\n",
              "      <td>VIEW</td>\n",
              "      <td>50</td>\n",
              "    </tr>\n",
              "    <tr>\n",
              "      <th>18</th>\n",
              "      <td>-9190737901804729417</td>\n",
              "      <td>LIKE</td>\n",
              "      <td>1</td>\n",
              "    </tr>\n",
              "    <tr>\n",
              "      <th>19</th>\n",
              "      <td>-9190737901804729417</td>\n",
              "      <td>VIEW</td>\n",
              "      <td>8</td>\n",
              "    </tr>\n",
              "    <tr>\n",
              "      <th>20</th>\n",
              "      <td>-9189659052158407108</td>\n",
              "      <td>BOOKMARK</td>\n",
              "      <td>2</td>\n",
              "    </tr>\n",
              "    <tr>\n",
              "      <th>21</th>\n",
              "      <td>-9189659052158407108</td>\n",
              "      <td>LIKE</td>\n",
              "      <td>1</td>\n",
              "    </tr>\n",
              "    <tr>\n",
              "      <th>22</th>\n",
              "      <td>-9189659052158407108</td>\n",
              "      <td>VIEW</td>\n",
              "      <td>33</td>\n",
              "    </tr>\n",
              "    <tr>\n",
              "      <th>23</th>\n",
              "      <td>-9184137057748005562</td>\n",
              "      <td>VIEW</td>\n",
              "      <td>1</td>\n",
              "    </tr>\n",
              "    <tr>\n",
              "      <th>24</th>\n",
              "      <td>-9176143510534135851</td>\n",
              "      <td>BOOKMARK</td>\n",
              "      <td>2</td>\n",
              "    </tr>\n",
              "  </tbody>\n",
              "</table>\n",
              "</div>"
            ],
            "text/plain": [
              "              contentId        eventType  COUNTER\n",
              "0  -9222795471790223670         BOOKMARK        1\n",
              "1  -9222795471790223670  COMMENT CREATED        2\n",
              "2  -9222795471790223670           FOLLOW        3\n",
              "3  -9222795471790223670             LIKE        4\n",
              "4  -9222795471790223670             VIEW       16\n",
              "5  -9216926795620865886         BOOKMARK        1\n",
              "6  -9216926795620865886  COMMENT CREATED        1\n",
              "7  -9216926795620865886           FOLLOW        1\n",
              "8  -9216926795620865886             LIKE        3\n",
              "9  -9216926795620865886             VIEW       15\n",
              "10 -9194572880052200111         BOOKMARK        2\n",
              "11 -9194572880052200111  COMMENT CREATED        1\n",
              "12 -9194572880052200111           FOLLOW        1\n",
              "13 -9194572880052200111             LIKE        4\n",
              "14 -9194572880052200111             VIEW       21\n",
              "15 -9192549002213406534  COMMENT CREATED        1\n",
              "16 -9192549002213406534             LIKE        5\n",
              "17 -9192549002213406534             VIEW       50\n",
              "18 -9190737901804729417             LIKE        1\n",
              "19 -9190737901804729417             VIEW        8\n",
              "20 -9189659052158407108         BOOKMARK        2\n",
              "21 -9189659052158407108             LIKE        1\n",
              "22 -9189659052158407108             VIEW       33\n",
              "23 -9184137057748005562             VIEW        1\n",
              "24 -9176143510534135851         BOOKMARK        2"
            ]
          },
          "metadata": {
            "tags": []
          },
          "execution_count": 42
        }
      ]
    },
    {
      "cell_type": "markdown",
      "metadata": {
        "id": "-c0vVAf8Ur4d"
      },
      "source": [
        "#Creating a pivot table using the contentId as the row and the eventTypes as the columns and filling the missing values with 0."
      ]
    },
    {
      "cell_type": "code",
      "metadata": {
        "id": "225KLJOrj0qM"
      },
      "source": [
        "final_df = data.pivot_table('COUNTER', ['contentId'], 'eventType')\n",
        "final_df = final_df.fillna(0)"
      ],
      "execution_count": null,
      "outputs": []
    },
    {
      "cell_type": "code",
      "metadata": {
        "id": "nVq90L7PoY2o",
        "colab": {
          "base_uri": "https://localhost:8080/",
          "height": 431
        },
        "outputId": "6d3f7292-c98f-49f0-e149-e76a5669a460"
      },
      "source": [
        "final_df\n"
      ],
      "execution_count": null,
      "outputs": [
        {
          "output_type": "execute_result",
          "data": {
            "text/html": [
              "<div>\n",
              "<style scoped>\n",
              "    .dataframe tbody tr th:only-of-type {\n",
              "        vertical-align: middle;\n",
              "    }\n",
              "\n",
              "    .dataframe tbody tr th {\n",
              "        vertical-align: top;\n",
              "    }\n",
              "\n",
              "    .dataframe thead th {\n",
              "        text-align: right;\n",
              "    }\n",
              "</style>\n",
              "<table border=\"1\" class=\"dataframe\">\n",
              "  <thead>\n",
              "    <tr style=\"text-align: right;\">\n",
              "      <th>eventType</th>\n",
              "      <th>BOOKMARK</th>\n",
              "      <th>COMMENT CREATED</th>\n",
              "      <th>FOLLOW</th>\n",
              "      <th>LIKE</th>\n",
              "      <th>VIEW</th>\n",
              "    </tr>\n",
              "    <tr>\n",
              "      <th>contentId</th>\n",
              "      <th></th>\n",
              "      <th></th>\n",
              "      <th></th>\n",
              "      <th></th>\n",
              "      <th></th>\n",
              "    </tr>\n",
              "  </thead>\n",
              "  <tbody>\n",
              "    <tr>\n",
              "      <th>-9222795471790223670</th>\n",
              "      <td>1.0</td>\n",
              "      <td>2.0</td>\n",
              "      <td>3.0</td>\n",
              "      <td>4.0</td>\n",
              "      <td>16.0</td>\n",
              "    </tr>\n",
              "    <tr>\n",
              "      <th>-9216926795620865886</th>\n",
              "      <td>1.0</td>\n",
              "      <td>1.0</td>\n",
              "      <td>1.0</td>\n",
              "      <td>3.0</td>\n",
              "      <td>15.0</td>\n",
              "    </tr>\n",
              "    <tr>\n",
              "      <th>-9194572880052200111</th>\n",
              "      <td>2.0</td>\n",
              "      <td>1.0</td>\n",
              "      <td>1.0</td>\n",
              "      <td>4.0</td>\n",
              "      <td>21.0</td>\n",
              "    </tr>\n",
              "    <tr>\n",
              "      <th>-9192549002213406534</th>\n",
              "      <td>0.0</td>\n",
              "      <td>1.0</td>\n",
              "      <td>0.0</td>\n",
              "      <td>5.0</td>\n",
              "      <td>50.0</td>\n",
              "    </tr>\n",
              "    <tr>\n",
              "      <th>-9190737901804729417</th>\n",
              "      <td>0.0</td>\n",
              "      <td>0.0</td>\n",
              "      <td>0.0</td>\n",
              "      <td>1.0</td>\n",
              "      <td>8.0</td>\n",
              "    </tr>\n",
              "    <tr>\n",
              "      <th>...</th>\n",
              "      <td>...</td>\n",
              "      <td>...</td>\n",
              "      <td>...</td>\n",
              "      <td>...</td>\n",
              "      <td>...</td>\n",
              "    </tr>\n",
              "    <tr>\n",
              "      <th>9213260650272029784</th>\n",
              "      <td>0.0</td>\n",
              "      <td>0.0</td>\n",
              "      <td>0.0</td>\n",
              "      <td>0.0</td>\n",
              "      <td>11.0</td>\n",
              "    </tr>\n",
              "    <tr>\n",
              "      <th>9215261273565326920</th>\n",
              "      <td>3.0</td>\n",
              "      <td>0.0</td>\n",
              "      <td>0.0</td>\n",
              "      <td>3.0</td>\n",
              "      <td>24.0</td>\n",
              "    </tr>\n",
              "    <tr>\n",
              "      <th>9217155070834564627</th>\n",
              "      <td>0.0</td>\n",
              "      <td>2.0</td>\n",
              "      <td>0.0</td>\n",
              "      <td>0.0</td>\n",
              "      <td>14.0</td>\n",
              "    </tr>\n",
              "    <tr>\n",
              "      <th>9220445660318725468</th>\n",
              "      <td>0.0</td>\n",
              "      <td>0.0</td>\n",
              "      <td>0.0</td>\n",
              "      <td>2.0</td>\n",
              "      <td>50.0</td>\n",
              "    </tr>\n",
              "    <tr>\n",
              "      <th>9222265156747237864</th>\n",
              "      <td>0.0</td>\n",
              "      <td>0.0</td>\n",
              "      <td>0.0</td>\n",
              "      <td>0.0</td>\n",
              "      <td>5.0</td>\n",
              "    </tr>\n",
              "  </tbody>\n",
              "</table>\n",
              "<p>2987 rows × 5 columns</p>\n",
              "</div>"
            ],
            "text/plain": [
              "eventType             BOOKMARK  COMMENT CREATED  FOLLOW  LIKE  VIEW\n",
              "contentId                                                          \n",
              "-9222795471790223670       1.0              2.0     3.0   4.0  16.0\n",
              "-9216926795620865886       1.0              1.0     1.0   3.0  15.0\n",
              "-9194572880052200111       2.0              1.0     1.0   4.0  21.0\n",
              "-9192549002213406534       0.0              1.0     0.0   5.0  50.0\n",
              "-9190737901804729417       0.0              0.0     0.0   1.0   8.0\n",
              "...                        ...              ...     ...   ...   ...\n",
              " 9213260650272029784       0.0              0.0     0.0   0.0  11.0\n",
              " 9215261273565326920       3.0              0.0     0.0   3.0  24.0\n",
              " 9217155070834564627       0.0              2.0     0.0   0.0  14.0\n",
              " 9220445660318725468       0.0              0.0     0.0   2.0  50.0\n",
              " 9222265156747237864       0.0              0.0     0.0   0.0   5.0\n",
              "\n",
              "[2987 rows x 5 columns]"
            ]
          },
          "metadata": {
            "tags": []
          },
          "execution_count": 44
        }
      ]
    },
    {
      "cell_type": "code",
      "metadata": {
        "id": "BJ287PvSS16t",
        "colab": {
          "base_uri": "https://localhost:8080/",
          "height": 34
        },
        "outputId": "d6dea59d-adf5-44f5-ec25-3b72a6eb2253"
      },
      "source": [
        "print(final_df.shape)"
      ],
      "execution_count": null,
      "outputs": [
        {
          "output_type": "stream",
          "text": [
            "(2987, 5)\n"
          ],
          "name": "stdout"
        }
      ]
    },
    {
      "cell_type": "markdown",
      "metadata": {
        "id": "jMjRgKAaU1vn"
      },
      "source": [
        "#Creating virality label for the dataset"
      ]
    },
    {
      "cell_type": "code",
      "metadata": {
        "id": "cVIZwF64oal4"
      },
      "source": [
        "def create_label(row):\n",
        "   return (1* row['VIEW']) + (4*row['LIKE']) + (10*row['COMMENT CREATED']) +( 25*row['FOLLOW'] )+ (100*row['BOOKMARK'])\n",
        "\n",
        "final_df['label'] = final_df.apply (lambda row: create_label(row), axis=1)"
      ],
      "execution_count": null,
      "outputs": []
    },
    {
      "cell_type": "code",
      "metadata": {
        "id": "QEsNRO0JoftT",
        "colab": {
          "base_uri": "https://localhost:8080/",
          "height": 34
        },
        "outputId": "ceed9067-8ed5-48df-dc76-cc666194d66c"
      },
      "source": [
        "x = final_df.iloc[0:, 0:5]\n",
        "y = final_df.iloc[0:, 5:]\n",
        "y = np.squeeze(y)\n",
        "y.shape\n",
        "type(y)"
      ],
      "execution_count": null,
      "outputs": [
        {
          "output_type": "execute_result",
          "data": {
            "text/plain": [
              "pandas.core.series.Series"
            ]
          },
          "metadata": {
            "tags": []
          },
          "execution_count": 47
        }
      ]
    },
    {
      "cell_type": "code",
      "metadata": {
        "id": "ie3wpOXJZ8Nq",
        "colab": {
          "base_uri": "https://localhost:8080/",
          "height": 284
        },
        "outputId": "f88bac78-191d-431b-910c-86e0a75b3064"
      },
      "source": [
        "final_df.describe()       #We can observe the virality scores for the dataset."
      ],
      "execution_count": null,
      "outputs": [
        {
          "output_type": "execute_result",
          "data": {
            "text/html": [
              "<div>\n",
              "<style scoped>\n",
              "    .dataframe tbody tr th:only-of-type {\n",
              "        vertical-align: middle;\n",
              "    }\n",
              "\n",
              "    .dataframe tbody tr th {\n",
              "        vertical-align: top;\n",
              "    }\n",
              "\n",
              "    .dataframe thead th {\n",
              "        text-align: right;\n",
              "    }\n",
              "</style>\n",
              "<table border=\"1\" class=\"dataframe\">\n",
              "  <thead>\n",
              "    <tr style=\"text-align: right;\">\n",
              "      <th>eventType</th>\n",
              "      <th>BOOKMARK</th>\n",
              "      <th>COMMENT CREATED</th>\n",
              "      <th>FOLLOW</th>\n",
              "      <th>LIKE</th>\n",
              "      <th>VIEW</th>\n",
              "      <th>label</th>\n",
              "    </tr>\n",
              "  </thead>\n",
              "  <tbody>\n",
              "    <tr>\n",
              "      <th>count</th>\n",
              "      <td>2987.000000</td>\n",
              "      <td>2987.000000</td>\n",
              "      <td>2987.000000</td>\n",
              "      <td>2987.000000</td>\n",
              "      <td>2987.000000</td>\n",
              "      <td>2987.000000</td>\n",
              "    </tr>\n",
              "    <tr>\n",
              "      <th>mean</th>\n",
              "      <td>0.824573</td>\n",
              "      <td>0.539337</td>\n",
              "      <td>0.471041</td>\n",
              "      <td>1.923334</td>\n",
              "      <td>20.450619</td>\n",
              "      <td>127.770673</td>\n",
              "    </tr>\n",
              "    <tr>\n",
              "      <th>std</th>\n",
              "      <td>2.231426</td>\n",
              "      <td>1.292221</td>\n",
              "      <td>1.076175</td>\n",
              "      <td>3.368695</td>\n",
              "      <td>27.199921</td>\n",
              "      <td>259.044552</td>\n",
              "    </tr>\n",
              "    <tr>\n",
              "      <th>min</th>\n",
              "      <td>0.000000</td>\n",
              "      <td>0.000000</td>\n",
              "      <td>0.000000</td>\n",
              "      <td>0.000000</td>\n",
              "      <td>0.000000</td>\n",
              "      <td>1.000000</td>\n",
              "    </tr>\n",
              "    <tr>\n",
              "      <th>25%</th>\n",
              "      <td>0.000000</td>\n",
              "      <td>0.000000</td>\n",
              "      <td>0.000000</td>\n",
              "      <td>0.000000</td>\n",
              "      <td>5.000000</td>\n",
              "      <td>8.000000</td>\n",
              "    </tr>\n",
              "    <tr>\n",
              "      <th>50%</th>\n",
              "      <td>0.000000</td>\n",
              "      <td>0.000000</td>\n",
              "      <td>0.000000</td>\n",
              "      <td>1.000000</td>\n",
              "      <td>12.000000</td>\n",
              "      <td>43.000000</td>\n",
              "    </tr>\n",
              "    <tr>\n",
              "      <th>75%</th>\n",
              "      <td>1.000000</td>\n",
              "      <td>1.000000</td>\n",
              "      <td>1.000000</td>\n",
              "      <td>2.000000</td>\n",
              "      <td>25.000000</td>\n",
              "      <td>150.000000</td>\n",
              "    </tr>\n",
              "    <tr>\n",
              "      <th>max</th>\n",
              "      <td>78.000000</td>\n",
              "      <td>13.000000</td>\n",
              "      <td>14.000000</td>\n",
              "      <td>53.000000</td>\n",
              "      <td>355.000000</td>\n",
              "      <td>7907.000000</td>\n",
              "    </tr>\n",
              "  </tbody>\n",
              "</table>\n",
              "</div>"
            ],
            "text/plain": [
              "eventType     BOOKMARK  COMMENT CREATED  ...         VIEW        label\n",
              "count      2987.000000      2987.000000  ...  2987.000000  2987.000000\n",
              "mean          0.824573         0.539337  ...    20.450619   127.770673\n",
              "std           2.231426         1.292221  ...    27.199921   259.044552\n",
              "min           0.000000         0.000000  ...     0.000000     1.000000\n",
              "25%           0.000000         0.000000  ...     5.000000     8.000000\n",
              "50%           0.000000         0.000000  ...    12.000000    43.000000\n",
              "75%           1.000000         1.000000  ...    25.000000   150.000000\n",
              "max          78.000000        13.000000  ...   355.000000  7907.000000\n",
              "\n",
              "[8 rows x 6 columns]"
            ]
          },
          "metadata": {
            "tags": []
          },
          "execution_count": 48
        }
      ]
    },
    {
      "cell_type": "markdown",
      "metadata": {
        "id": "IShEPUn5U9Pd"
      },
      "source": [
        "#From the dataset shown above, we see that this is a regression problem. To solve this, we could linear regression model."
      ]
    },
    {
      "cell_type": "markdown",
      "metadata": {
        "id": "dB_ZOzSIfZS5"
      },
      "source": [
        "#Method 1:"
      ]
    },
    {
      "cell_type": "markdown",
      "metadata": {
        "id": "v_bindSve8QH"
      },
      "source": [
        "#**Linear Regression**"
      ]
    },
    {
      "cell_type": "markdown",
      "metadata": {
        "id": "cGEFqTuBYGHH"
      },
      "source": [
        "We have split the dataset into training and testing data (80% and 20% respectively)"
      ]
    },
    {
      "cell_type": "markdown",
      "metadata": {
        "id": "nrWj88mOYO7v"
      },
      "source": [
        "We can observe that the Mean Squared Loss for the training data set is 6.02*10^-31"
      ]
    },
    {
      "cell_type": "code",
      "metadata": {
        "id": "kIEUxaMVcvrw"
      },
      "source": [
        "from sklearn.model_selection import train_test_split\n",
        "\n",
        "train, test = train_test_split(final_df, test_size=0.2)\n",
        "X_train, y_train = train.drop('label',axis = 1), train['label']\n",
        "X_test, y_test = test.drop('label',axis = 1), test['label']"
      ],
      "execution_count": null,
      "outputs": []
    },
    {
      "cell_type": "code",
      "metadata": {
        "id": "oHJlH0eXVjtR"
      },
      "source": [
        "from sklearn.linear_model import LinearRegression\n",
        "model = LinearRegression()\n",
        "model.fit(X_train, y_train)\n",
        "model = LinearRegression().fit(X_train, y_train)\n"
      ],
      "execution_count": null,
      "outputs": []
    },
    {
      "cell_type": "markdown",
      "metadata": {
        "id": "4wHbWza0YzHx"
      },
      "source": [
        "#We can observe that the weights trained out are [100(bookmark), 10(comment), 25(follow), 4(like), 1(view)]"
      ]
    },
    {
      "cell_type": "code",
      "metadata": {
        "id": "hYoiCFHJWXIA",
        "colab": {
          "base_uri": "https://localhost:8080/",
          "height": 50
        },
        "outputId": "2b7070c0-7504-42af-da6f-e0d15d84d7cb"
      },
      "source": [
        "print('intercept:', model.intercept_)\n",
        "print('Weights trained', model.coef_)  #The weights trained by the model."
      ],
      "execution_count": null,
      "outputs": [
        {
          "output_type": "stream",
          "text": [
            "intercept: -3.126388037344441e-13\n",
            "Weights trained [100.  10.  25.   4.   1.]\n"
          ],
          "name": "stdout"
        }
      ]
    },
    {
      "cell_type": "markdown",
      "metadata": {
        "id": "ywYyykbhZpXZ"
      },
      "source": [
        "#The mean squared error for the test data comes out to be 8.13*10^-26"
      ]
    },
    {
      "cell_type": "code",
      "metadata": {
        "id": "ErnLR-0XW1Vw",
        "colab": {
          "base_uri": "https://localhost:8080/",
          "height": 34
        },
        "outputId": "2b0ce197-a650-4620-eeff-d84eccb32595"
      },
      "source": [
        "y_pred2 = model.predict(X_test)\n",
        "from sklearn.metrics import mean_squared_error\n",
        "mean_squared_error(y_test, y_pred2)"
      ],
      "execution_count": null,
      "outputs": [
        {
          "output_type": "execute_result",
          "data": {
            "text/plain": [
              "2.7776593470058668e-25"
            ]
          },
          "metadata": {
            "tags": []
          },
          "execution_count": 52
        }
      ]
    },
    {
      "cell_type": "markdown",
      "metadata": {
        "id": "3qPppZPIfeXd"
      },
      "source": [
        "#Method 2:"
      ]
    },
    {
      "cell_type": "markdown",
      "metadata": {
        "id": "lGmWcU-TfGbh"
      },
      "source": [
        "#**Gradient Descent**"
      ]
    },
    {
      "cell_type": "markdown",
      "metadata": {
        "id": "cNizVExjaEAX"
      },
      "source": [
        "#We now try to apply gradient descent which is much more optimum method to solve regression problems."
      ]
    },
    {
      "cell_type": "code",
      "metadata": {
        "id": "nIIQk5_Zzok7"
      },
      "source": [
        "data = pd.DataFrame(x).to_numpy()\n",
        "target = pd.DataFrame(y).to_numpy()\n",
        "\n",
        "X = data\n",
        "y = target\n",
        "X.shape\n",
        "y = np.squeeze(y)"
      ],
      "execution_count": null,
      "outputs": []
    },
    {
      "cell_type": "markdown",
      "metadata": {
        "id": "ehGATK3naiOi"
      },
      "source": [
        "#The input data is normalized to get better accuracy while applying the gradient descent algorithm."
      ]
    },
    {
      "cell_type": "code",
      "metadata": {
        "id": "EgCaGVjv3q_4"
      },
      "source": [
        "X = (X - X.mean())/X.std()\n",
        "y = (y - y.mean())/y.std()"
      ],
      "execution_count": null,
      "outputs": []
    },
    {
      "cell_type": "code",
      "metadata": {
        "id": "-RHIJ17SRM3R",
        "colab": {
          "base_uri": "https://localhost:8080/",
          "height": 134
        },
        "outputId": "2ad901fc-b55b-4f22-d2bd-c9c5da8413cf"
      },
      "source": [
        "X"
      ],
      "execution_count": null,
      "outputs": [
        {
          "output_type": "execute_result",
          "data": {
            "text/plain": [
              "array([[-0.26327869, -0.19474832, -0.12621794, -0.05768757,  0.76467692],\n",
              "       [-0.26327869, -0.26327869, -0.26327869, -0.12621794,  0.69614655],\n",
              "       [-0.19474832, -0.26327869, -0.26327869, -0.05768757,  1.10732879],\n",
              "       ...,\n",
              "       [-0.33180907, -0.19474832, -0.33180907, -0.33180907,  0.62761617],\n",
              "       [-0.33180907, -0.33180907, -0.33180907, -0.19474832,  3.09470965],\n",
              "       [-0.33180907, -0.33180907, -0.33180907, -0.33180907,  0.0108428 ]])"
            ]
          },
          "metadata": {
            "tags": []
          },
          "execution_count": 55
        }
      ]
    },
    {
      "cell_type": "code",
      "metadata": {
        "id": "7xAh0s1X3rHS"
      },
      "source": [
        "train_pct_index = int(0.8 * len(X))\n",
        "X_train, X_test = X[:train_pct_index], X[train_pct_index:]\n",
        "y_train, y_test = y[:train_pct_index], y[train_pct_index:]"
      ],
      "execution_count": null,
      "outputs": []
    },
    {
      "cell_type": "code",
      "metadata": {
        "id": "536k153p3rbh",
        "colab": {
          "base_uri": "https://localhost:8080/",
          "height": 34
        },
        "outputId": "de6ff67e-338f-4f00-b05a-45e21a1f992a"
      },
      "source": [
        "X_test.shape"
      ],
      "execution_count": null,
      "outputs": [
        {
          "output_type": "execute_result",
          "data": {
            "text/plain": [
              "(598, 5)"
            ]
          },
          "metadata": {
            "tags": []
          },
          "execution_count": 57
        }
      ]
    },
    {
      "cell_type": "markdown",
      "metadata": {
        "id": "Lv51ChdYaXqI"
      },
      "source": [
        "#Initialize the weights"
      ]
    },
    {
      "cell_type": "code",
      "metadata": {
        "id": "x4m89hPc3rFF"
      },
      "source": [
        "def initialize_w(lenw):\n",
        "  w= np.zeros(lenw)\n",
        "  return w"
      ],
      "execution_count": null,
      "outputs": []
    },
    {
      "cell_type": "markdown",
      "metadata": {
        "id": "4WNHXreQabBP"
      },
      "source": [
        "#Initialize the loss function"
      ]
    },
    {
      "cell_type": "code",
      "metadata": {
        "id": "9kbNS2fb3q9U"
      },
      "source": [
        "def loss(x,y,w):\n",
        "  n=len(x)\n",
        "  #for i in range(n):\n",
        "  dw= np.dot(x.T,(y-np.dot(x,w)))\n",
        "  return dw"
      ],
      "execution_count": null,
      "outputs": []
    },
    {
      "cell_type": "markdown",
      "metadata": {
        "id": "Zn7aJmWVadl5"
      },
      "source": [
        "#The gradient descent algorithm"
      ]
    },
    {
      "cell_type": "code",
      "metadata": {
        "id": "Qv50BJUl4GLF"
      },
      "source": [
        "def gradient_descent(X, y, l_rate, epochs):\n",
        "  m=len(y)\n",
        "  lenw= X.shape[1]\n",
        "  w=initialize_w(lenw)\n",
        "  loss_history=[0]* epochs\n",
        "  for i in range ( epochs):\n",
        "    g= X.T.dot(X.dot(w)-y)/m      \n",
        "    w= w-l_rate*g  #Updating the value of the weight function at every epoch\n",
        "    loss_value= loss(X,y,w)\n",
        "    loss_history[i]= loss_value\n",
        "  return w, loss_history"
      ],
      "execution_count": null,
      "outputs": []
    },
    {
      "cell_type": "markdown",
      "metadata": {
        "id": "BKHHjQfqavqv"
      },
      "source": [
        "#Calculate the R2 score or the prediction accuracy for the model"
      ]
    },
    {
      "cell_type": "code",
      "metadata": {
        "id": "P3KhSkHw4GT3"
      },
      "source": [
        "def R2_score(y,y_pred): \n",
        "  y_mean= np.mean(y)\n",
        "  r2_d=sum((y-y_mean)**2)\n",
        "  r2_n=sum((y-y_pred)**2)\n",
        "  r2_val=1-(r2_n/r2_d)\n",
        "  return r2_val"
      ],
      "execution_count": null,
      "outputs": []
    },
    {
      "cell_type": "markdown",
      "metadata": {
        "id": "aWre-Z20T0oK"
      },
      "source": [
        "#An accuracy of 87.35% is achieved for the training data set.\n",
        "#We can observe that the weights are scaled down to a different value as compared to [100(bookmark), 10(comment), 25(follow), 4(like), 1(view)] because we normalized the input data and also because the value of the weights depends on the initialization of the weights. However, we get a accuracy of 87.35% for the model by applying gradient descent for the training dataset."
      ]
    },
    {
      "cell_type": "code",
      "metadata": {
        "id": "Zf7jPPpI4Gev",
        "colab": {
          "base_uri": "https://localhost:8080/",
          "height": 67
        },
        "outputId": "a63a4329-19ab-47fb-f85d-c21981abd5a7"
      },
      "source": [
        "l_rate=0.01\n",
        "epochs=10000\n",
        "\n",
        "w, loss_history = gradient_descent(X_train,y_train,l_rate,epochs)\n",
        "print(\"Weights obtained after training\", w)\n",
        "y_pred = X_train.dot(w)\n",
        "r2 = R2_score(y_train,y_pred)\n",
        "print(\"R2 score for train data: \",r2)"
      ],
      "execution_count": null,
      "outputs": [
        {
          "output_type": "stream",
          "text": [
            "Weights obtained after training [ 3.98034119e+00 -1.09930107e+00 -1.37416702e+00  2.99207660e-03\n",
            "  2.71554856e-01]\n",
            "R2 score for train data:  0.8735158343722751\n"
          ],
          "name": "stdout"
        }
      ]
    },
    {
      "cell_type": "markdown",
      "metadata": {
        "id": "wWt-82FRTgG8"
      },
      "source": [
        "#An accuracy of 83.13% is achieved for the test data set."
      ]
    },
    {
      "cell_type": "code",
      "metadata": {
        "id": "0_dZ63vX4Gmp",
        "colab": {
          "base_uri": "https://localhost:8080/",
          "height": 34
        },
        "outputId": "b1b69d96-665a-4429-bc40-189fef3b2b09"
      },
      "source": [
        "y_pred = X_test.dot(w)\n",
        "r2 = R2_score(y_test,y_pred)\n",
        "print(\"R2 score for test data:\",r2)"
      ],
      "execution_count": null,
      "outputs": [
        {
          "output_type": "stream",
          "text": [
            "R2 score for test data: 0.8313112915615459\n"
          ],
          "name": "stdout"
        }
      ]
    }
  ]
}